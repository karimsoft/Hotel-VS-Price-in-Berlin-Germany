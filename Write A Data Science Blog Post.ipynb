{
 "cells": [
  {
   "cell_type": "markdown",
   "metadata": {},
   "source": [
    "### Information and metrics for hotels in Berlin ,Germany.\n",
    "\n",
    "Customer satisfaction will be examined at Blaine,Germany Hotels and what are the interesting items at the room price. \n",
    "\n",
    "**Data From** http://insideairbnb.com/get-the-data.html\n",
    "\n",
    "**File Name** listings.csv **rename to** Berlin_Germany_Listings.csv\n",
    "\n",
    "**Date Compiled** 13-10-2020"
   ]
  },
  {
   "cell_type": "code",
   "execution_count": 1,
   "metadata": {},
   "outputs": [],
   "source": [
    "import numpy as np\n",
    "import pandas as pd\n",
    "import matplotlib.pyplot as plt\n",
    "import seaborn as sns\n",
    "%matplotlib inline\n",
    "\n",
    "pd.set_option('display.max_rows', None)\n",
    "\n",
    "df_main = pd.read_csv('./Berlin_Germany_Listings.csv')"
   ]
  },
  {
   "cell_type": "code",
   "execution_count": 2,
   "metadata": {},
   "outputs": [
    {
     "data": {
      "text/html": [
       "<div>\n",
       "<style scoped>\n",
       "    .dataframe tbody tr th:only-of-type {\n",
       "        vertical-align: middle;\n",
       "    }\n",
       "\n",
       "    .dataframe tbody tr th {\n",
       "        vertical-align: top;\n",
       "    }\n",
       "\n",
       "    .dataframe thead th {\n",
       "        text-align: right;\n",
       "    }\n",
       "</style>\n",
       "<table border=\"1\" class=\"dataframe\">\n",
       "  <thead>\n",
       "    <tr style=\"text-align: right;\">\n",
       "      <th></th>\n",
       "      <th>id</th>\n",
       "      <th>name</th>\n",
       "      <th>host_id</th>\n",
       "      <th>host_name</th>\n",
       "      <th>neighbourhood_group</th>\n",
       "      <th>neighbourhood</th>\n",
       "      <th>latitude</th>\n",
       "      <th>longitude</th>\n",
       "      <th>room_type</th>\n",
       "      <th>price</th>\n",
       "      <th>minimum_nights</th>\n",
       "      <th>number_of_reviews</th>\n",
       "      <th>last_review</th>\n",
       "      <th>reviews_per_month</th>\n",
       "      <th>calculated_host_listings_count</th>\n",
       "      <th>availability_365</th>\n",
       "    </tr>\n",
       "  </thead>\n",
       "  <tbody>\n",
       "    <tr>\n",
       "      <th>0</th>\n",
       "      <td>2015</td>\n",
       "      <td>Berlin-Mitte Value! Quiet courtyard/very central</td>\n",
       "      <td>2217</td>\n",
       "      <td>Ion</td>\n",
       "      <td>Mitte</td>\n",
       "      <td>Brunnenstr. Süd</td>\n",
       "      <td>52.53454</td>\n",
       "      <td>13.40256</td>\n",
       "      <td>Entire home/apt</td>\n",
       "      <td>61</td>\n",
       "      <td>5</td>\n",
       "      <td>134</td>\n",
       "      <td>2020-09-26</td>\n",
       "      <td>2.43</td>\n",
       "      <td>6</td>\n",
       "      <td>180</td>\n",
       "    </tr>\n",
       "    <tr>\n",
       "      <th>1</th>\n",
       "      <td>3176</td>\n",
       "      <td>Fabulous Flat in great Location</td>\n",
       "      <td>3718</td>\n",
       "      <td>Britta</td>\n",
       "      <td>Pankow</td>\n",
       "      <td>Prenzlauer Berg Südwest</td>\n",
       "      <td>52.53500</td>\n",
       "      <td>13.41758</td>\n",
       "      <td>Entire home/apt</td>\n",
       "      <td>90</td>\n",
       "      <td>62</td>\n",
       "      <td>146</td>\n",
       "      <td>2020-05-27</td>\n",
       "      <td>1.06</td>\n",
       "      <td>1</td>\n",
       "      <td>353</td>\n",
       "    </tr>\n",
       "    <tr>\n",
       "      <th>2</th>\n",
       "      <td>3309</td>\n",
       "      <td>BerlinSpot Schöneberg near KaDeWe</td>\n",
       "      <td>4108</td>\n",
       "      <td>Jana</td>\n",
       "      <td>Tempelhof - Schöneberg</td>\n",
       "      <td>Schöneberg-Nord</td>\n",
       "      <td>52.49885</td>\n",
       "      <td>13.34906</td>\n",
       "      <td>Private room</td>\n",
       "      <td>29</td>\n",
       "      <td>7</td>\n",
       "      <td>27</td>\n",
       "      <td>2019-05-31</td>\n",
       "      <td>0.31</td>\n",
       "      <td>1</td>\n",
       "      <td>293</td>\n",
       "    </tr>\n",
       "    <tr>\n",
       "      <th>3</th>\n",
       "      <td>7071</td>\n",
       "      <td>BrightRoom with sunny greenview!</td>\n",
       "      <td>17391</td>\n",
       "      <td>BrightRoom</td>\n",
       "      <td>Pankow</td>\n",
       "      <td>Helmholtzplatz</td>\n",
       "      <td>52.54316</td>\n",
       "      <td>13.41509</td>\n",
       "      <td>Private room</td>\n",
       "      <td>33</td>\n",
       "      <td>1</td>\n",
       "      <td>293</td>\n",
       "      <td>2020-03-31</td>\n",
       "      <td>2.15</td>\n",
       "      <td>1</td>\n",
       "      <td>0</td>\n",
       "    </tr>\n",
       "    <tr>\n",
       "      <th>4</th>\n",
       "      <td>9991</td>\n",
       "      <td>Geourgeous flat - outstanding views</td>\n",
       "      <td>33852</td>\n",
       "      <td>Philipp</td>\n",
       "      <td>Pankow</td>\n",
       "      <td>Prenzlauer Berg Südwest</td>\n",
       "      <td>52.53303</td>\n",
       "      <td>13.41605</td>\n",
       "      <td>Entire home/apt</td>\n",
       "      <td>180</td>\n",
       "      <td>6</td>\n",
       "      <td>8</td>\n",
       "      <td>2020-01-04</td>\n",
       "      <td>0.13</td>\n",
       "      <td>1</td>\n",
       "      <td>29</td>\n",
       "    </tr>\n",
       "  </tbody>\n",
       "</table>\n",
       "</div>"
      ],
      "text/plain": [
       "     id                                              name  host_id  \\\n",
       "0  2015  Berlin-Mitte Value! Quiet courtyard/very central     2217   \n",
       "1  3176                   Fabulous Flat in great Location     3718   \n",
       "2  3309                 BerlinSpot Schöneberg near KaDeWe     4108   \n",
       "3  7071                  BrightRoom with sunny greenview!    17391   \n",
       "4  9991               Geourgeous flat - outstanding views    33852   \n",
       "\n",
       "    host_name     neighbourhood_group            neighbourhood  latitude  \\\n",
       "0         Ion                   Mitte          Brunnenstr. Süd  52.53454   \n",
       "1      Britta                  Pankow  Prenzlauer Berg Südwest  52.53500   \n",
       "2        Jana  Tempelhof - Schöneberg          Schöneberg-Nord  52.49885   \n",
       "3  BrightRoom                  Pankow           Helmholtzplatz  52.54316   \n",
       "4     Philipp                  Pankow  Prenzlauer Berg Südwest  52.53303   \n",
       "\n",
       "   longitude        room_type  price  minimum_nights  number_of_reviews  \\\n",
       "0   13.40256  Entire home/apt     61               5                134   \n",
       "1   13.41758  Entire home/apt     90              62                146   \n",
       "2   13.34906     Private room     29               7                 27   \n",
       "3   13.41509     Private room     33               1                293   \n",
       "4   13.41605  Entire home/apt    180               6                  8   \n",
       "\n",
       "  last_review  reviews_per_month  calculated_host_listings_count  \\\n",
       "0  2020-09-26               2.43                               6   \n",
       "1  2020-05-27               1.06                               1   \n",
       "2  2019-05-31               0.31                               1   \n",
       "3  2020-03-31               2.15                               1   \n",
       "4  2020-01-04               0.13                               1   \n",
       "\n",
       "   availability_365  \n",
       "0               180  \n",
       "1               353  \n",
       "2               293  \n",
       "3                 0  \n",
       "4                29  "
      ]
     },
     "execution_count": 2,
     "metadata": {},
     "output_type": "execute_result"
    }
   ],
   "source": [
    "df_main.head()"
   ]
  },
  {
   "cell_type": "code",
   "execution_count": 3,
   "metadata": {},
   "outputs": [
    {
     "data": {
      "text/plain": [
       "(20227, 16)"
      ]
     },
     "execution_count": 3,
     "metadata": {},
     "output_type": "execute_result"
    }
   ],
   "source": [
    "df_main.shape"
   ]
  },
  {
   "cell_type": "code",
   "execution_count": 4,
   "metadata": {},
   "outputs": [
    {
     "name": "stdout",
     "output_type": "stream",
     "text": [
      "<class 'pandas.core.frame.DataFrame'>\n",
      "RangeIndex: 20227 entries, 0 to 20226\n",
      "Data columns (total 16 columns):\n",
      "id                                20227 non-null int64\n",
      "name                              20195 non-null object\n",
      "host_id                           20227 non-null int64\n",
      "host_name                         20215 non-null object\n",
      "neighbourhood_group               20227 non-null object\n",
      "neighbourhood                     20227 non-null object\n",
      "latitude                          20227 non-null float64\n",
      "longitude                         20227 non-null float64\n",
      "room_type                         20227 non-null object\n",
      "price                             20227 non-null int64\n",
      "minimum_nights                    20227 non-null int64\n",
      "number_of_reviews                 20227 non-null int64\n",
      "last_review                       16460 non-null object\n",
      "reviews_per_month                 16460 non-null float64\n",
      "calculated_host_listings_count    20227 non-null int64\n",
      "availability_365                  20227 non-null int64\n",
      "dtypes: float64(3), int64(7), object(6)\n",
      "memory usage: 2.5+ MB\n"
     ]
    }
   ],
   "source": [
    "df_main.info()"
   ]
  },
  {
   "cell_type": "code",
   "execution_count": 5,
   "metadata": {},
   "outputs": [
    {
     "data": {
      "text/html": [
       "<div>\n",
       "<style scoped>\n",
       "    .dataframe tbody tr th:only-of-type {\n",
       "        vertical-align: middle;\n",
       "    }\n",
       "\n",
       "    .dataframe tbody tr th {\n",
       "        vertical-align: top;\n",
       "    }\n",
       "\n",
       "    .dataframe thead th {\n",
       "        text-align: right;\n",
       "    }\n",
       "</style>\n",
       "<table border=\"1\" class=\"dataframe\">\n",
       "  <thead>\n",
       "    <tr style=\"text-align: right;\">\n",
       "      <th></th>\n",
       "      <th>id</th>\n",
       "      <th>name</th>\n",
       "      <th>host_id</th>\n",
       "      <th>host_name</th>\n",
       "      <th>neighbourhood_group</th>\n",
       "      <th>neighbourhood</th>\n",
       "      <th>latitude</th>\n",
       "      <th>longitude</th>\n",
       "      <th>room_type</th>\n",
       "      <th>price</th>\n",
       "      <th>minimum_nights</th>\n",
       "      <th>number_of_reviews</th>\n",
       "      <th>last_review</th>\n",
       "      <th>reviews_per_month</th>\n",
       "      <th>calculated_host_listings_count</th>\n",
       "      <th>availability_365</th>\n",
       "    </tr>\n",
       "  </thead>\n",
       "  <tbody>\n",
       "    <tr>\n",
       "      <th>count</th>\n",
       "      <td>2.022700e+04</td>\n",
       "      <td>20195</td>\n",
       "      <td>2.022700e+04</td>\n",
       "      <td>20215</td>\n",
       "      <td>20227</td>\n",
       "      <td>20227</td>\n",
       "      <td>20227.000000</td>\n",
       "      <td>20227.000000</td>\n",
       "      <td>20227</td>\n",
       "      <td>20227.000000</td>\n",
       "      <td>20227.000000</td>\n",
       "      <td>20227.000000</td>\n",
       "      <td>16460</td>\n",
       "      <td>16460.000000</td>\n",
       "      <td>20227.000000</td>\n",
       "      <td>20227.000000</td>\n",
       "    </tr>\n",
       "    <tr>\n",
       "      <th>unique</th>\n",
       "      <td>NaN</td>\n",
       "      <td>19655</td>\n",
       "      <td>NaN</td>\n",
       "      <td>5541</td>\n",
       "      <td>12</td>\n",
       "      <td>138</td>\n",
       "      <td>NaN</td>\n",
       "      <td>NaN</td>\n",
       "      <td>4</td>\n",
       "      <td>NaN</td>\n",
       "      <td>NaN</td>\n",
       "      <td>NaN</td>\n",
       "      <td>1843</td>\n",
       "      <td>NaN</td>\n",
       "      <td>NaN</td>\n",
       "      <td>NaN</td>\n",
       "    </tr>\n",
       "    <tr>\n",
       "      <th>top</th>\n",
       "      <td>NaN</td>\n",
       "      <td>40% off budget room with private shower</td>\n",
       "      <td>NaN</td>\n",
       "      <td>Anna</td>\n",
       "      <td>Friedrichshain-Kreuzberg</td>\n",
       "      <td>Frankfurter Allee Süd FK</td>\n",
       "      <td>NaN</td>\n",
       "      <td>NaN</td>\n",
       "      <td>Entire home/apt</td>\n",
       "      <td>NaN</td>\n",
       "      <td>NaN</td>\n",
       "      <td>NaN</td>\n",
       "      <td>2020-10-04</td>\n",
       "      <td>NaN</td>\n",
       "      <td>NaN</td>\n",
       "      <td>NaN</td>\n",
       "    </tr>\n",
       "    <tr>\n",
       "      <th>freq</th>\n",
       "      <td>NaN</td>\n",
       "      <td>11</td>\n",
       "      <td>NaN</td>\n",
       "      <td>152</td>\n",
       "      <td>4602</td>\n",
       "      <td>1142</td>\n",
       "      <td>NaN</td>\n",
       "      <td>NaN</td>\n",
       "      <td>10971</td>\n",
       "      <td>NaN</td>\n",
       "      <td>NaN</td>\n",
       "      <td>NaN</td>\n",
       "      <td>251</td>\n",
       "      <td>NaN</td>\n",
       "      <td>NaN</td>\n",
       "      <td>NaN</td>\n",
       "    </tr>\n",
       "    <tr>\n",
       "      <th>mean</th>\n",
       "      <td>2.361542e+07</td>\n",
       "      <td>NaN</td>\n",
       "      <td>8.551713e+07</td>\n",
       "      <td>NaN</td>\n",
       "      <td>NaN</td>\n",
       "      <td>NaN</td>\n",
       "      <td>52.510246</td>\n",
       "      <td>13.404865</td>\n",
       "      <td>NaN</td>\n",
       "      <td>67.815939</td>\n",
       "      <td>7.990063</td>\n",
       "      <td>23.140258</td>\n",
       "      <td>NaN</td>\n",
       "      <td>0.843584</td>\n",
       "      <td>2.823108</td>\n",
       "      <td>87.639294</td>\n",
       "    </tr>\n",
       "    <tr>\n",
       "      <th>std</th>\n",
       "      <td>1.372947e+07</td>\n",
       "      <td>NaN</td>\n",
       "      <td>9.821869e+07</td>\n",
       "      <td>NaN</td>\n",
       "      <td>NaN</td>\n",
       "      <td>NaN</td>\n",
       "      <td>0.031903</td>\n",
       "      <td>0.062069</td>\n",
       "      <td>NaN</td>\n",
       "      <td>114.235766</td>\n",
       "      <td>30.525101</td>\n",
       "      <td>48.747977</td>\n",
       "      <td>NaN</td>\n",
       "      <td>1.218423</td>\n",
       "      <td>6.521288</td>\n",
       "      <td>128.382964</td>\n",
       "    </tr>\n",
       "    <tr>\n",
       "      <th>min</th>\n",
       "      <td>2.015000e+03</td>\n",
       "      <td>NaN</td>\n",
       "      <td>1.581000e+03</td>\n",
       "      <td>NaN</td>\n",
       "      <td>NaN</td>\n",
       "      <td>NaN</td>\n",
       "      <td>52.340410</td>\n",
       "      <td>13.098390</td>\n",
       "      <td>NaN</td>\n",
       "      <td>0.000000</td>\n",
       "      <td>1.000000</td>\n",
       "      <td>0.000000</td>\n",
       "      <td>NaN</td>\n",
       "      <td>0.010000</td>\n",
       "      <td>1.000000</td>\n",
       "      <td>0.000000</td>\n",
       "    </tr>\n",
       "    <tr>\n",
       "      <th>25%</th>\n",
       "      <td>1.181564e+07</td>\n",
       "      <td>NaN</td>\n",
       "      <td>1.079583e+07</td>\n",
       "      <td>NaN</td>\n",
       "      <td>NaN</td>\n",
       "      <td>NaN</td>\n",
       "      <td>52.489590</td>\n",
       "      <td>13.369115</td>\n",
       "      <td>NaN</td>\n",
       "      <td>35.000000</td>\n",
       "      <td>2.000000</td>\n",
       "      <td>1.000000</td>\n",
       "      <td>NaN</td>\n",
       "      <td>0.120000</td>\n",
       "      <td>1.000000</td>\n",
       "      <td>0.000000</td>\n",
       "    </tr>\n",
       "    <tr>\n",
       "      <th>50%</th>\n",
       "      <td>2.267455e+07</td>\n",
       "      <td>NaN</td>\n",
       "      <td>4.129505e+07</td>\n",
       "      <td>NaN</td>\n",
       "      <td>NaN</td>\n",
       "      <td>NaN</td>\n",
       "      <td>52.510130</td>\n",
       "      <td>13.414540</td>\n",
       "      <td>NaN</td>\n",
       "      <td>50.000000</td>\n",
       "      <td>3.000000</td>\n",
       "      <td>5.000000</td>\n",
       "      <td>NaN</td>\n",
       "      <td>0.360000</td>\n",
       "      <td>1.000000</td>\n",
       "      <td>0.000000</td>\n",
       "    </tr>\n",
       "    <tr>\n",
       "      <th>75%</th>\n",
       "      <td>3.633792e+07</td>\n",
       "      <td>NaN</td>\n",
       "      <td>1.320462e+08</td>\n",
       "      <td>NaN</td>\n",
       "      <td>NaN</td>\n",
       "      <td>NaN</td>\n",
       "      <td>52.533000</td>\n",
       "      <td>13.439005</td>\n",
       "      <td>NaN</td>\n",
       "      <td>79.000000</td>\n",
       "      <td>4.000000</td>\n",
       "      <td>20.000000</td>\n",
       "      <td>NaN</td>\n",
       "      <td>1.010000</td>\n",
       "      <td>2.000000</td>\n",
       "      <td>158.000000</td>\n",
       "    </tr>\n",
       "    <tr>\n",
       "      <th>max</th>\n",
       "      <td>4.585497e+07</td>\n",
       "      <td>NaN</td>\n",
       "      <td>3.714961e+08</td>\n",
       "      <td>NaN</td>\n",
       "      <td>NaN</td>\n",
       "      <td>NaN</td>\n",
       "      <td>52.655980</td>\n",
       "      <td>13.757580</td>\n",
       "      <td>NaN</td>\n",
       "      <td>8000.000000</td>\n",
       "      <td>1124.000000</td>\n",
       "      <td>568.000000</td>\n",
       "      <td>NaN</td>\n",
       "      <td>20.630000</td>\n",
       "      <td>67.000000</td>\n",
       "      <td>365.000000</td>\n",
       "    </tr>\n",
       "  </tbody>\n",
       "</table>\n",
       "</div>"
      ],
      "text/plain": [
       "                  id                                     name       host_id  \\\n",
       "count   2.022700e+04                                    20195  2.022700e+04   \n",
       "unique           NaN                                    19655           NaN   \n",
       "top              NaN  40% off budget room with private shower           NaN   \n",
       "freq             NaN                                       11           NaN   \n",
       "mean    2.361542e+07                                      NaN  8.551713e+07   \n",
       "std     1.372947e+07                                      NaN  9.821869e+07   \n",
       "min     2.015000e+03                                      NaN  1.581000e+03   \n",
       "25%     1.181564e+07                                      NaN  1.079583e+07   \n",
       "50%     2.267455e+07                                      NaN  4.129505e+07   \n",
       "75%     3.633792e+07                                      NaN  1.320462e+08   \n",
       "max     4.585497e+07                                      NaN  3.714961e+08   \n",
       "\n",
       "       host_name       neighbourhood_group             neighbourhood  \\\n",
       "count      20215                     20227                     20227   \n",
       "unique      5541                        12                       138   \n",
       "top         Anna  Friedrichshain-Kreuzberg  Frankfurter Allee Süd FK   \n",
       "freq         152                      4602                      1142   \n",
       "mean         NaN                       NaN                       NaN   \n",
       "std          NaN                       NaN                       NaN   \n",
       "min          NaN                       NaN                       NaN   \n",
       "25%          NaN                       NaN                       NaN   \n",
       "50%          NaN                       NaN                       NaN   \n",
       "75%          NaN                       NaN                       NaN   \n",
       "max          NaN                       NaN                       NaN   \n",
       "\n",
       "            latitude     longitude        room_type         price  \\\n",
       "count   20227.000000  20227.000000            20227  20227.000000   \n",
       "unique           NaN           NaN                4           NaN   \n",
       "top              NaN           NaN  Entire home/apt           NaN   \n",
       "freq             NaN           NaN            10971           NaN   \n",
       "mean       52.510246     13.404865              NaN     67.815939   \n",
       "std         0.031903      0.062069              NaN    114.235766   \n",
       "min        52.340410     13.098390              NaN      0.000000   \n",
       "25%        52.489590     13.369115              NaN     35.000000   \n",
       "50%        52.510130     13.414540              NaN     50.000000   \n",
       "75%        52.533000     13.439005              NaN     79.000000   \n",
       "max        52.655980     13.757580              NaN   8000.000000   \n",
       "\n",
       "        minimum_nights  number_of_reviews last_review  reviews_per_month  \\\n",
       "count     20227.000000       20227.000000       16460       16460.000000   \n",
       "unique             NaN                NaN        1843                NaN   \n",
       "top                NaN                NaN  2020-10-04                NaN   \n",
       "freq               NaN                NaN         251                NaN   \n",
       "mean          7.990063          23.140258         NaN           0.843584   \n",
       "std          30.525101          48.747977         NaN           1.218423   \n",
       "min           1.000000           0.000000         NaN           0.010000   \n",
       "25%           2.000000           1.000000         NaN           0.120000   \n",
       "50%           3.000000           5.000000         NaN           0.360000   \n",
       "75%           4.000000          20.000000         NaN           1.010000   \n",
       "max        1124.000000         568.000000         NaN          20.630000   \n",
       "\n",
       "        calculated_host_listings_count  availability_365  \n",
       "count                     20227.000000      20227.000000  \n",
       "unique                             NaN               NaN  \n",
       "top                                NaN               NaN  \n",
       "freq                               NaN               NaN  \n",
       "mean                          2.823108         87.639294  \n",
       "std                           6.521288        128.382964  \n",
       "min                           1.000000          0.000000  \n",
       "25%                           1.000000          0.000000  \n",
       "50%                           1.000000          0.000000  \n",
       "75%                           2.000000        158.000000  \n",
       "max                          67.000000        365.000000  "
      ]
     },
     "execution_count": 5,
     "metadata": {},
     "output_type": "execute_result"
    }
   ],
   "source": [
    "df_main.describe(include='all')"
   ]
  },
  {
   "cell_type": "markdown",
   "metadata": {},
   "source": [
    "## Questions\n",
    "\n",
    "#### Question 1:- If more we go north, the lower price?\n",
    "#### Question 2:- What is expected the price for most commonly used in the far south for every room type?\n",
    "#### Question 3:- Increasing the number of days available per year causes price increases ?\n",
    "#### Question 4:- when minimum nights is small then the price increases?"
   ]
  },
  {
   "cell_type": "markdown",
   "metadata": {},
   "source": [
    "## clean Data\n",
    "\n",
    "#### select only data like the Questions and drop other columns"
   ]
  },
  {
   "cell_type": "code",
   "execution_count": 6,
   "metadata": {},
   "outputs": [],
   "source": [
    "# Drop columns\n",
    "df=df_main.drop(['name' , 'host_id' , 'host_name', 'neighbourhood_group','neighbourhood','longitude','number_of_reviews','last_review','reviews_per_month','calculated_host_listings_count'], axis=1)"
   ]
  },
  {
   "cell_type": "markdown",
   "metadata": {},
   "source": [
    "#### drop rows is  null values  "
   ]
  },
  {
   "cell_type": "code",
   "execution_count": 7,
   "metadata": {},
   "outputs": [],
   "source": [
    "df=df.dropna()"
   ]
  },
  {
   "cell_type": "code",
   "execution_count": 8,
   "metadata": {},
   "outputs": [
    {
     "name": "stdout",
     "output_type": "stream",
     "text": [
      "<class 'pandas.core.frame.DataFrame'>\n",
      "Int64Index: 20227 entries, 0 to 20226\n",
      "Data columns (total 6 columns):\n",
      "id                  20227 non-null int64\n",
      "latitude            20227 non-null float64\n",
      "room_type           20227 non-null object\n",
      "price               20227 non-null int64\n",
      "minimum_nights      20227 non-null int64\n",
      "availability_365    20227 non-null int64\n",
      "dtypes: float64(1), int64(4), object(1)\n",
      "memory usage: 1.1+ MB\n"
     ]
    }
   ],
   "source": [
    "df.info()"
   ]
  },
  {
   "cell_type": "markdown",
   "metadata": {},
   "source": [
    "##### Drop rows is number of reviews equal 0"
   ]
  },
  {
   "cell_type": "code",
   "execution_count": 9,
   "metadata": {},
   "outputs": [
    {
     "name": "stdout",
     "output_type": "stream",
     "text": [
      "<class 'pandas.core.frame.DataFrame'>\n",
      "Int64Index: 20227 entries, 0 to 20226\n",
      "Data columns (total 6 columns):\n",
      "id                  20227 non-null int64\n",
      "latitude            20227 non-null float64\n",
      "room_type           20227 non-null object\n",
      "price               20227 non-null int64\n",
      "minimum_nights      20227 non-null int64\n",
      "availability_365    20227 non-null int64\n",
      "dtypes: float64(1), int64(4), object(1)\n",
      "memory usage: 1.1+ MB\n"
     ]
    }
   ],
   "source": [
    "df.info()"
   ]
  },
  {
   "cell_type": "code",
   "execution_count": 10,
   "metadata": {},
   "outputs": [
    {
     "data": {
      "text/html": [
       "<div>\n",
       "<style scoped>\n",
       "    .dataframe tbody tr th:only-of-type {\n",
       "        vertical-align: middle;\n",
       "    }\n",
       "\n",
       "    .dataframe tbody tr th {\n",
       "        vertical-align: top;\n",
       "    }\n",
       "\n",
       "    .dataframe thead th {\n",
       "        text-align: right;\n",
       "    }\n",
       "</style>\n",
       "<table border=\"1\" class=\"dataframe\">\n",
       "  <thead>\n",
       "    <tr style=\"text-align: right;\">\n",
       "      <th></th>\n",
       "      <th>id</th>\n",
       "      <th>latitude</th>\n",
       "      <th>room_type</th>\n",
       "      <th>price</th>\n",
       "      <th>minimum_nights</th>\n",
       "      <th>availability_365</th>\n",
       "    </tr>\n",
       "  </thead>\n",
       "  <tbody>\n",
       "    <tr>\n",
       "      <th>count</th>\n",
       "      <td>2.022700e+04</td>\n",
       "      <td>20227.000000</td>\n",
       "      <td>20227</td>\n",
       "      <td>20227.000000</td>\n",
       "      <td>20227.000000</td>\n",
       "      <td>20227.000000</td>\n",
       "    </tr>\n",
       "    <tr>\n",
       "      <th>unique</th>\n",
       "      <td>NaN</td>\n",
       "      <td>NaN</td>\n",
       "      <td>4</td>\n",
       "      <td>NaN</td>\n",
       "      <td>NaN</td>\n",
       "      <td>NaN</td>\n",
       "    </tr>\n",
       "    <tr>\n",
       "      <th>top</th>\n",
       "      <td>NaN</td>\n",
       "      <td>NaN</td>\n",
       "      <td>Entire home/apt</td>\n",
       "      <td>NaN</td>\n",
       "      <td>NaN</td>\n",
       "      <td>NaN</td>\n",
       "    </tr>\n",
       "    <tr>\n",
       "      <th>freq</th>\n",
       "      <td>NaN</td>\n",
       "      <td>NaN</td>\n",
       "      <td>10971</td>\n",
       "      <td>NaN</td>\n",
       "      <td>NaN</td>\n",
       "      <td>NaN</td>\n",
       "    </tr>\n",
       "    <tr>\n",
       "      <th>mean</th>\n",
       "      <td>2.361542e+07</td>\n",
       "      <td>52.510246</td>\n",
       "      <td>NaN</td>\n",
       "      <td>67.815939</td>\n",
       "      <td>7.990063</td>\n",
       "      <td>87.639294</td>\n",
       "    </tr>\n",
       "    <tr>\n",
       "      <th>std</th>\n",
       "      <td>1.372947e+07</td>\n",
       "      <td>0.031903</td>\n",
       "      <td>NaN</td>\n",
       "      <td>114.235766</td>\n",
       "      <td>30.525101</td>\n",
       "      <td>128.382964</td>\n",
       "    </tr>\n",
       "    <tr>\n",
       "      <th>min</th>\n",
       "      <td>2.015000e+03</td>\n",
       "      <td>52.340410</td>\n",
       "      <td>NaN</td>\n",
       "      <td>0.000000</td>\n",
       "      <td>1.000000</td>\n",
       "      <td>0.000000</td>\n",
       "    </tr>\n",
       "    <tr>\n",
       "      <th>25%</th>\n",
       "      <td>1.181564e+07</td>\n",
       "      <td>52.489590</td>\n",
       "      <td>NaN</td>\n",
       "      <td>35.000000</td>\n",
       "      <td>2.000000</td>\n",
       "      <td>0.000000</td>\n",
       "    </tr>\n",
       "    <tr>\n",
       "      <th>50%</th>\n",
       "      <td>2.267455e+07</td>\n",
       "      <td>52.510130</td>\n",
       "      <td>NaN</td>\n",
       "      <td>50.000000</td>\n",
       "      <td>3.000000</td>\n",
       "      <td>0.000000</td>\n",
       "    </tr>\n",
       "    <tr>\n",
       "      <th>75%</th>\n",
       "      <td>3.633792e+07</td>\n",
       "      <td>52.533000</td>\n",
       "      <td>NaN</td>\n",
       "      <td>79.000000</td>\n",
       "      <td>4.000000</td>\n",
       "      <td>158.000000</td>\n",
       "    </tr>\n",
       "    <tr>\n",
       "      <th>max</th>\n",
       "      <td>4.585497e+07</td>\n",
       "      <td>52.655980</td>\n",
       "      <td>NaN</td>\n",
       "      <td>8000.000000</td>\n",
       "      <td>1124.000000</td>\n",
       "      <td>365.000000</td>\n",
       "    </tr>\n",
       "  </tbody>\n",
       "</table>\n",
       "</div>"
      ],
      "text/plain": [
       "                  id      latitude        room_type         price  \\\n",
       "count   2.022700e+04  20227.000000            20227  20227.000000   \n",
       "unique           NaN           NaN                4           NaN   \n",
       "top              NaN           NaN  Entire home/apt           NaN   \n",
       "freq             NaN           NaN            10971           NaN   \n",
       "mean    2.361542e+07     52.510246              NaN     67.815939   \n",
       "std     1.372947e+07      0.031903              NaN    114.235766   \n",
       "min     2.015000e+03     52.340410              NaN      0.000000   \n",
       "25%     1.181564e+07     52.489590              NaN     35.000000   \n",
       "50%     2.267455e+07     52.510130              NaN     50.000000   \n",
       "75%     3.633792e+07     52.533000              NaN     79.000000   \n",
       "max     4.585497e+07     52.655980              NaN   8000.000000   \n",
       "\n",
       "        minimum_nights  availability_365  \n",
       "count     20227.000000      20227.000000  \n",
       "unique             NaN               NaN  \n",
       "top                NaN               NaN  \n",
       "freq               NaN               NaN  \n",
       "mean          7.990063         87.639294  \n",
       "std          30.525101        128.382964  \n",
       "min           1.000000          0.000000  \n",
       "25%           2.000000          0.000000  \n",
       "50%           3.000000          0.000000  \n",
       "75%           4.000000        158.000000  \n",
       "max        1124.000000        365.000000  "
      ]
     },
     "execution_count": 10,
     "metadata": {},
     "output_type": "execute_result"
    }
   ],
   "source": [
    "df.describe(include='all')"
   ]
  },
  {
   "cell_type": "code",
   "execution_count": 11,
   "metadata": {},
   "outputs": [
    {
     "data": {
      "text/html": [
       "<div>\n",
       "<style scoped>\n",
       "    .dataframe tbody tr th:only-of-type {\n",
       "        vertical-align: middle;\n",
       "    }\n",
       "\n",
       "    .dataframe tbody tr th {\n",
       "        vertical-align: top;\n",
       "    }\n",
       "\n",
       "    .dataframe thead th {\n",
       "        text-align: right;\n",
       "    }\n",
       "</style>\n",
       "<table border=\"1\" class=\"dataframe\">\n",
       "  <thead>\n",
       "    <tr style=\"text-align: right;\">\n",
       "      <th></th>\n",
       "      <th>id</th>\n",
       "      <th>latitude</th>\n",
       "      <th>price</th>\n",
       "      <th>minimum_nights</th>\n",
       "      <th>availability_365</th>\n",
       "    </tr>\n",
       "    <tr>\n",
       "      <th>room_type</th>\n",
       "      <th></th>\n",
       "      <th></th>\n",
       "      <th></th>\n",
       "      <th></th>\n",
       "      <th></th>\n",
       "    </tr>\n",
       "  </thead>\n",
       "  <tbody>\n",
       "    <tr>\n",
       "      <th>Entire home/apt</th>\n",
       "      <td>10971</td>\n",
       "      <td>10971</td>\n",
       "      <td>10971</td>\n",
       "      <td>10971</td>\n",
       "      <td>10971</td>\n",
       "    </tr>\n",
       "    <tr>\n",
       "      <th>Hotel room</th>\n",
       "      <td>230</td>\n",
       "      <td>230</td>\n",
       "      <td>230</td>\n",
       "      <td>230</td>\n",
       "      <td>230</td>\n",
       "    </tr>\n",
       "    <tr>\n",
       "      <th>Private room</th>\n",
       "      <td>8747</td>\n",
       "      <td>8747</td>\n",
       "      <td>8747</td>\n",
       "      <td>8747</td>\n",
       "      <td>8747</td>\n",
       "    </tr>\n",
       "    <tr>\n",
       "      <th>Shared room</th>\n",
       "      <td>279</td>\n",
       "      <td>279</td>\n",
       "      <td>279</td>\n",
       "      <td>279</td>\n",
       "      <td>279</td>\n",
       "    </tr>\n",
       "  </tbody>\n",
       "</table>\n",
       "</div>"
      ],
      "text/plain": [
       "                    id  latitude  price  minimum_nights  availability_365\n",
       "room_type                                                                \n",
       "Entire home/apt  10971     10971  10971           10971             10971\n",
       "Hotel room         230       230    230             230               230\n",
       "Private room      8747      8747   8747            8747              8747\n",
       "Shared room        279       279    279             279               279"
      ]
     },
     "execution_count": 11,
     "metadata": {},
     "output_type": "execute_result"
    }
   ],
   "source": [
    "df.groupby(['room_type']).count()"
   ]
  },
  {
   "cell_type": "code",
   "execution_count": 12,
   "metadata": {},
   "outputs": [],
   "source": [
    "df['room_type']=df['room_type'].str.replace(' ','_')"
   ]
  },
  {
   "cell_type": "code",
   "execution_count": 13,
   "metadata": {},
   "outputs": [],
   "source": [
    "df['room_type'].replace('Entire_home/apt','Entire_home',inplace=True)"
   ]
  },
  {
   "cell_type": "code",
   "execution_count": 14,
   "metadata": {},
   "outputs": [
    {
     "data": {
      "text/html": [
       "<div>\n",
       "<style scoped>\n",
       "    .dataframe tbody tr th:only-of-type {\n",
       "        vertical-align: middle;\n",
       "    }\n",
       "\n",
       "    .dataframe tbody tr th {\n",
       "        vertical-align: top;\n",
       "    }\n",
       "\n",
       "    .dataframe thead th {\n",
       "        text-align: right;\n",
       "    }\n",
       "</style>\n",
       "<table border=\"1\" class=\"dataframe\">\n",
       "  <thead>\n",
       "    <tr style=\"text-align: right;\">\n",
       "      <th></th>\n",
       "      <th>id</th>\n",
       "      <th>latitude</th>\n",
       "      <th>price</th>\n",
       "      <th>minimum_nights</th>\n",
       "      <th>availability_365</th>\n",
       "    </tr>\n",
       "    <tr>\n",
       "      <th>room_type</th>\n",
       "      <th></th>\n",
       "      <th></th>\n",
       "      <th></th>\n",
       "      <th></th>\n",
       "      <th></th>\n",
       "    </tr>\n",
       "  </thead>\n",
       "  <tbody>\n",
       "    <tr>\n",
       "      <th>Entire_home</th>\n",
       "      <td>10971</td>\n",
       "      <td>10971</td>\n",
       "      <td>10971</td>\n",
       "      <td>10971</td>\n",
       "      <td>10971</td>\n",
       "    </tr>\n",
       "    <tr>\n",
       "      <th>Hotel_room</th>\n",
       "      <td>230</td>\n",
       "      <td>230</td>\n",
       "      <td>230</td>\n",
       "      <td>230</td>\n",
       "      <td>230</td>\n",
       "    </tr>\n",
       "    <tr>\n",
       "      <th>Private_room</th>\n",
       "      <td>8747</td>\n",
       "      <td>8747</td>\n",
       "      <td>8747</td>\n",
       "      <td>8747</td>\n",
       "      <td>8747</td>\n",
       "    </tr>\n",
       "    <tr>\n",
       "      <th>Shared_room</th>\n",
       "      <td>279</td>\n",
       "      <td>279</td>\n",
       "      <td>279</td>\n",
       "      <td>279</td>\n",
       "      <td>279</td>\n",
       "    </tr>\n",
       "  </tbody>\n",
       "</table>\n",
       "</div>"
      ],
      "text/plain": [
       "                 id  latitude  price  minimum_nights  availability_365\n",
       "room_type                                                             \n",
       "Entire_home   10971     10971  10971           10971             10971\n",
       "Hotel_room      230       230    230             230               230\n",
       "Private_room   8747      8747   8747            8747              8747\n",
       "Shared_room     279       279    279             279               279"
      ]
     },
     "execution_count": 14,
     "metadata": {},
     "output_type": "execute_result"
    }
   ],
   "source": [
    "df.groupby(['room_type']).count()"
   ]
  },
  {
   "cell_type": "code",
   "execution_count": 15,
   "metadata": {},
   "outputs": [],
   "source": [
    "# convert room type to columns\n",
    "cat_df = df.select_dtypes(include=['object'])\n",
    "cat_cols = cat_df.columns\n",
    "for col in  cat_cols:\n",
    "    df = pd.concat([df.drop(col, axis=1), pd.get_dummies(df[col], prefix=col, prefix_sep='_', drop_first=False, dummy_na=True)], axis=1)"
   ]
  },
  {
   "cell_type": "code",
   "execution_count": 16,
   "metadata": {},
   "outputs": [
    {
     "name": "stdout",
     "output_type": "stream",
     "text": [
      "<class 'pandas.core.frame.DataFrame'>\n",
      "Int64Index: 20227 entries, 0 to 20226\n",
      "Data columns (total 10 columns):\n",
      "id                        20227 non-null int64\n",
      "latitude                  20227 non-null float64\n",
      "price                     20227 non-null int64\n",
      "minimum_nights            20227 non-null int64\n",
      "availability_365          20227 non-null int64\n",
      "room_type_Entire_home     20227 non-null uint8\n",
      "room_type_Hotel_room      20227 non-null uint8\n",
      "room_type_Private_room    20227 non-null uint8\n",
      "room_type_Shared_room     20227 non-null uint8\n",
      "room_type_nan             20227 non-null uint8\n",
      "dtypes: float64(1), int64(4), uint8(5)\n",
      "memory usage: 1.0 MB\n"
     ]
    }
   ],
   "source": [
    "df.info()"
   ]
  },
  {
   "cell_type": "code",
   "execution_count": 17,
   "metadata": {},
   "outputs": [],
   "source": [
    "# Lift the decimalfor latitude\n",
    "df['latitude']=(df['latitude']-52)*100"
   ]
  },
  {
   "cell_type": "code",
   "execution_count": 18,
   "metadata": {},
   "outputs": [
    {
     "data": {
      "text/plain": [
       "0    53.454\n",
       "1    53.500\n",
       "2    49.885\n",
       "3    54.316\n",
       "4    53.303\n",
       "Name: latitude, dtype: float64"
      ]
     },
     "execution_count": 18,
     "metadata": {},
     "output_type": "execute_result"
    }
   ],
   "source": [
    "df['latitude'].head()"
   ]
  },
  {
   "cell_type": "code",
   "execution_count": 19,
   "metadata": {},
   "outputs": [],
   "source": [
    "# convert latitude to int\n",
    "df=df.astype(int)"
   ]
  },
  {
   "cell_type": "code",
   "execution_count": 20,
   "metadata": {},
   "outputs": [
    {
     "data": {
      "text/html": [
       "<div>\n",
       "<style scoped>\n",
       "    .dataframe tbody tr th:only-of-type {\n",
       "        vertical-align: middle;\n",
       "    }\n",
       "\n",
       "    .dataframe tbody tr th {\n",
       "        vertical-align: top;\n",
       "    }\n",
       "\n",
       "    .dataframe thead th {\n",
       "        text-align: right;\n",
       "    }\n",
       "</style>\n",
       "<table border=\"1\" class=\"dataframe\">\n",
       "  <thead>\n",
       "    <tr style=\"text-align: right;\">\n",
       "      <th></th>\n",
       "      <th>id</th>\n",
       "      <th>latitude</th>\n",
       "      <th>price</th>\n",
       "      <th>minimum_nights</th>\n",
       "      <th>availability_365</th>\n",
       "      <th>room_type_Entire_home</th>\n",
       "      <th>room_type_Hotel_room</th>\n",
       "      <th>room_type_Private_room</th>\n",
       "      <th>room_type_Shared_room</th>\n",
       "      <th>room_type_nan</th>\n",
       "    </tr>\n",
       "  </thead>\n",
       "  <tbody>\n",
       "    <tr>\n",
       "      <th>0</th>\n",
       "      <td>2015</td>\n",
       "      <td>53</td>\n",
       "      <td>61</td>\n",
       "      <td>5</td>\n",
       "      <td>180</td>\n",
       "      <td>1</td>\n",
       "      <td>0</td>\n",
       "      <td>0</td>\n",
       "      <td>0</td>\n",
       "      <td>0</td>\n",
       "    </tr>\n",
       "    <tr>\n",
       "      <th>1</th>\n",
       "      <td>3176</td>\n",
       "      <td>53</td>\n",
       "      <td>90</td>\n",
       "      <td>62</td>\n",
       "      <td>353</td>\n",
       "      <td>1</td>\n",
       "      <td>0</td>\n",
       "      <td>0</td>\n",
       "      <td>0</td>\n",
       "      <td>0</td>\n",
       "    </tr>\n",
       "    <tr>\n",
       "      <th>2</th>\n",
       "      <td>3309</td>\n",
       "      <td>49</td>\n",
       "      <td>29</td>\n",
       "      <td>7</td>\n",
       "      <td>293</td>\n",
       "      <td>0</td>\n",
       "      <td>0</td>\n",
       "      <td>1</td>\n",
       "      <td>0</td>\n",
       "      <td>0</td>\n",
       "    </tr>\n",
       "    <tr>\n",
       "      <th>3</th>\n",
       "      <td>7071</td>\n",
       "      <td>54</td>\n",
       "      <td>33</td>\n",
       "      <td>1</td>\n",
       "      <td>0</td>\n",
       "      <td>0</td>\n",
       "      <td>0</td>\n",
       "      <td>1</td>\n",
       "      <td>0</td>\n",
       "      <td>0</td>\n",
       "    </tr>\n",
       "    <tr>\n",
       "      <th>4</th>\n",
       "      <td>9991</td>\n",
       "      <td>53</td>\n",
       "      <td>180</td>\n",
       "      <td>6</td>\n",
       "      <td>29</td>\n",
       "      <td>1</td>\n",
       "      <td>0</td>\n",
       "      <td>0</td>\n",
       "      <td>0</td>\n",
       "      <td>0</td>\n",
       "    </tr>\n",
       "  </tbody>\n",
       "</table>\n",
       "</div>"
      ],
      "text/plain": [
       "     id  latitude  price  minimum_nights  availability_365  \\\n",
       "0  2015        53     61               5               180   \n",
       "1  3176        53     90              62               353   \n",
       "2  3309        49     29               7               293   \n",
       "3  7071        54     33               1                 0   \n",
       "4  9991        53    180               6                29   \n",
       "\n",
       "   room_type_Entire_home  room_type_Hotel_room  room_type_Private_room  \\\n",
       "0                      1                     0                       0   \n",
       "1                      1                     0                       0   \n",
       "2                      0                     0                       1   \n",
       "3                      0                     0                       1   \n",
       "4                      1                     0                       0   \n",
       "\n",
       "   room_type_Shared_room  room_type_nan  \n",
       "0                      0              0  \n",
       "1                      0              0  \n",
       "2                      0              0  \n",
       "3                      0              0  \n",
       "4                      0              0  "
      ]
     },
     "execution_count": 20,
     "metadata": {},
     "output_type": "execute_result"
    }
   ],
   "source": [
    "df.head()"
   ]
  },
  {
   "cell_type": "code",
   "execution_count": 21,
   "metadata": {},
   "outputs": [
    {
     "data": {
      "text/plain": [
       "0    53\n",
       "1    53\n",
       "2    49\n",
       "3    54\n",
       "4    53\n",
       "Name: latitude, dtype: int64"
      ]
     },
     "execution_count": 21,
     "metadata": {},
     "output_type": "execute_result"
    }
   ],
   "source": [
    "df['latitude'].head()"
   ]
  },
  {
   "cell_type": "code",
   "execution_count": 22,
   "metadata": {},
   "outputs": [
    {
     "name": "stdout",
     "output_type": "stream",
     "text": [
      "<class 'pandas.core.frame.DataFrame'>\n",
      "Int64Index: 20227 entries, 0 to 20226\n",
      "Data columns (total 10 columns):\n",
      "id                        20227 non-null int64\n",
      "latitude                  20227 non-null int64\n",
      "price                     20227 non-null int64\n",
      "minimum_nights            20227 non-null int64\n",
      "availability_365          20227 non-null int64\n",
      "room_type_Entire_home     20227 non-null int64\n",
      "room_type_Hotel_room      20227 non-null int64\n",
      "room_type_Private_room    20227 non-null int64\n",
      "room_type_Shared_room     20227 non-null int64\n",
      "room_type_nan             20227 non-null int64\n",
      "dtypes: int64(10)\n",
      "memory usage: 1.7 MB\n"
     ]
    }
   ],
   "source": [
    "df.info()"
   ]
  },
  {
   "cell_type": "markdown",
   "metadata": {},
   "source": [
    "## Answer Question"
   ]
  },
  {
   "cell_type": "markdown",
   "metadata": {},
   "source": [
    "#### Question 1:- If more we go south, the lower the price?"
   ]
  },
  {
   "cell_type": "code",
   "execution_count": 23,
   "metadata": {},
   "outputs": [],
   "source": [
    "from sklearn.linear_model import LinearRegression\n",
    "from sklearn.model_selection import train_test_split\n",
    "from sklearn.metrics import r2_score, mean_squared_error"
   ]
  },
  {
   "cell_type": "code",
   "execution_count": 24,
   "metadata": {},
   "outputs": [
    {
     "data": {
      "text/plain": [
       "'The r-squared score for the model using only quantitative variables was 0.044210269478155095 on 6069 values.'"
      ]
     },
     "execution_count": 24,
     "metadata": {},
     "output_type": "execute_result"
    }
   ],
   "source": [
    "#Split into explanatory and response variables\n",
    "X = df[['latitude', 'minimum_nights','availability_365','room_type_Entire_home','room_type_Hotel_room','room_type_Private_room','room_type_Shared_room','room_type_nan']]\n",
    "y = df['price']\n",
    "\n",
    "#Split into train and test\n",
    "X_train, X_test, y_train, y_test = train_test_split(X, y, test_size = .30, random_state=42) \n",
    "\n",
    "lm_model = LinearRegression(normalize=True) # Instantiate\n",
    "lm_model.fit(X_train, y_train) #Fit\n",
    "        \n",
    "#Predict and score the model\n",
    "y_test_preds = lm_model.predict(X_test) \n",
    "\n",
    "\"The r-squared score for the model using only quantitative variables was {} on {} values.\".format(r2_score(y_test, y_test_preds), len(y_test))"
   ]
  },
  {
   "cell_type": "code",
   "execution_count": 25,
   "metadata": {},
   "outputs": [
    {
     "name": "stderr",
     "output_type": "stream",
     "text": [
      "/opt/conda/lib/python3.6/site-packages/ipykernel_launcher.py:1: SettingWithCopyWarning: \n",
      "A value is trying to be set on a copy of a slice from a DataFrame.\n",
      "Try using .loc[row_indexer,col_indexer] = value instead\n",
      "\n",
      "See the caveats in the documentation: http://pandas.pydata.org/pandas-docs/stable/indexing.html#indexing-view-versus-copy\n",
      "  \"\"\"Entry point for launching an IPython kernel.\n"
     ]
    }
   ],
   "source": [
    "X_test['price']=y_test"
   ]
  },
  {
   "cell_type": "code",
   "execution_count": 26,
   "metadata": {},
   "outputs": [
    {
     "data": {
      "text/plain": [
       "count    6069.000000\n",
       "mean       50.592190\n",
       "std         3.181286\n",
       "min        34.000000\n",
       "25%        49.000000\n",
       "50%        51.000000\n",
       "75%        53.000000\n",
       "max        64.000000\n",
       "Name: latitude, dtype: float64"
      ]
     },
     "execution_count": 26,
     "metadata": {},
     "output_type": "execute_result"
    }
   ],
   "source": [
    "X_test['latitude'].describe(include='all')"
   ]
  },
  {
   "cell_type": "code",
   "execution_count": 27,
   "metadata": {},
   "outputs": [],
   "source": [
    "# convert latitude to int\n",
    "X_test=X_test.astype(int)"
   ]
  },
  {
   "cell_type": "code",
   "execution_count": 28,
   "metadata": {},
   "outputs": [
    {
     "data": {
      "image/png": "[encoded data removed]",
      "text/plain": [
       "<matplotlib.figure.Figure at 0x7f42bc4f9828>"
      ]
     },
     "metadata": {
      "needs_background": "light"
     },
     "output_type": "display_data"
    }
   ],
   "source": [
    "plt.scatter( X_test['price'],X_test['latitude'])\n",
    "plt.axis([0,1000, 30,70]) # set axis \n",
    "plt.title(\"latitude and price\")\n",
    "plt.ylabel(\"latitude\")\n",
    "plt.xlabel(\"price\")\n",
    "plt.show()"
   ]
  },
  {
   "cell_type": "markdown",
   "metadata": {},
   "source": [
    "**Answer 1:-** Yes, If more we go north, the lower price and Hotel Count."
   ]
  },
  {
   "cell_type": "markdown",
   "metadata": {},
   "source": [
    "#### Question 2:- What is expected the price for most commonly used in the far south for every room type?"
   ]
  },
  {
   "cell_type": "code",
   "execution_count": 29,
   "metadata": {},
   "outputs": [
    {
     "data": {
      "text/html": [
       "<div>\n",
       "<style scoped>\n",
       "    .dataframe tbody tr th:only-of-type {\n",
       "        vertical-align: middle;\n",
       "    }\n",
       "\n",
       "    .dataframe tbody tr th {\n",
       "        vertical-align: top;\n",
       "    }\n",
       "\n",
       "    .dataframe thead th {\n",
       "        text-align: right;\n",
       "    }\n",
       "</style>\n",
       "<table border=\"1\" class=\"dataframe\">\n",
       "  <thead>\n",
       "    <tr style=\"text-align: right;\">\n",
       "      <th></th>\n",
       "      <th>latitude</th>\n",
       "      <th>minimum_nights</th>\n",
       "      <th>availability_365</th>\n",
       "      <th>room_type_Entire_home</th>\n",
       "      <th>room_type_Hotel_room</th>\n",
       "      <th>room_type_Private_room</th>\n",
       "      <th>room_type_Shared_room</th>\n",
       "      <th>room_type_nan</th>\n",
       "      <th>price</th>\n",
       "    </tr>\n",
       "  </thead>\n",
       "  <tbody>\n",
       "    <tr>\n",
       "      <th>15376</th>\n",
       "      <td>49</td>\n",
       "      <td>2</td>\n",
       "      <td>0</td>\n",
       "      <td>1</td>\n",
       "      <td>0</td>\n",
       "      <td>0</td>\n",
       "      <td>0</td>\n",
       "      <td>0</td>\n",
       "      <td>90</td>\n",
       "    </tr>\n",
       "    <tr>\n",
       "      <th>10404</th>\n",
       "      <td>51</td>\n",
       "      <td>2</td>\n",
       "      <td>168</td>\n",
       "      <td>1</td>\n",
       "      <td>0</td>\n",
       "      <td>0</td>\n",
       "      <td>0</td>\n",
       "      <td>0</td>\n",
       "      <td>174</td>\n",
       "    </tr>\n",
       "    <tr>\n",
       "      <th>20026</th>\n",
       "      <td>57</td>\n",
       "      <td>1</td>\n",
       "      <td>179</td>\n",
       "      <td>0</td>\n",
       "      <td>0</td>\n",
       "      <td>1</td>\n",
       "      <td>0</td>\n",
       "      <td>0</td>\n",
       "      <td>33</td>\n",
       "    </tr>\n",
       "    <tr>\n",
       "      <th>2043</th>\n",
       "      <td>49</td>\n",
       "      <td>3</td>\n",
       "      <td>0</td>\n",
       "      <td>1</td>\n",
       "      <td>0</td>\n",
       "      <td>0</td>\n",
       "      <td>0</td>\n",
       "      <td>0</td>\n",
       "      <td>55</td>\n",
       "    </tr>\n",
       "    <tr>\n",
       "      <th>11508</th>\n",
       "      <td>48</td>\n",
       "      <td>4</td>\n",
       "      <td>0</td>\n",
       "      <td>0</td>\n",
       "      <td>0</td>\n",
       "      <td>1</td>\n",
       "      <td>0</td>\n",
       "      <td>0</td>\n",
       "      <td>48</td>\n",
       "    </tr>\n",
       "  </tbody>\n",
       "</table>\n",
       "</div>"
      ],
      "text/plain": [
       "       latitude  minimum_nights  availability_365  room_type_Entire_home  \\\n",
       "15376        49               2                 0                      1   \n",
       "10404        51               2               168                      1   \n",
       "20026        57               1               179                      0   \n",
       "2043         49               3                 0                      1   \n",
       "11508        48               4                 0                      0   \n",
       "\n",
       "       room_type_Hotel_room  room_type_Private_room  room_type_Shared_room  \\\n",
       "15376                     0                       0                      0   \n",
       "10404                     0                       0                      0   \n",
       "20026                     0                       1                      0   \n",
       "2043                      0                       0                      0   \n",
       "11508                     0                       1                      0   \n",
       "\n",
       "       room_type_nan  price  \n",
       "15376              0     90  \n",
       "10404              0    174  \n",
       "20026              0     33  \n",
       "2043               0     55  \n",
       "11508              0     48  "
      ]
     },
     "execution_count": 29,
     "metadata": {},
     "output_type": "execute_result"
    }
   ],
   "source": [
    "X_test.head()"
   ]
  },
  {
   "cell_type": "code",
   "execution_count": 30,
   "metadata": {},
   "outputs": [],
   "source": [
    "df_X_where=X_test.query('latitude<= 45')"
   ]
  },
  {
   "cell_type": "code",
   "execution_count": 31,
   "metadata": {},
   "outputs": [
    {
     "data": {
      "text/html": [
       "<div>\n",
       "<style scoped>\n",
       "    .dataframe tbody tr th:only-of-type {\n",
       "        vertical-align: middle;\n",
       "    }\n",
       "\n",
       "    .dataframe tbody tr th {\n",
       "        vertical-align: top;\n",
       "    }\n",
       "\n",
       "    .dataframe thead th {\n",
       "        text-align: right;\n",
       "    }\n",
       "</style>\n",
       "<table border=\"1\" class=\"dataframe\">\n",
       "  <thead>\n",
       "    <tr style=\"text-align: right;\">\n",
       "      <th></th>\n",
       "      <th>latitude</th>\n",
       "      <th>minimum_nights</th>\n",
       "      <th>availability_365</th>\n",
       "      <th>room_type_Entire_home</th>\n",
       "      <th>room_type_Hotel_room</th>\n",
       "      <th>room_type_Private_room</th>\n",
       "      <th>room_type_Shared_room</th>\n",
       "      <th>room_type_nan</th>\n",
       "      <th>price</th>\n",
       "    </tr>\n",
       "  </thead>\n",
       "  <tbody>\n",
       "    <tr>\n",
       "      <th>119</th>\n",
       "      <td>44</td>\n",
       "      <td>2</td>\n",
       "      <td>320</td>\n",
       "      <td>1</td>\n",
       "      <td>0</td>\n",
       "      <td>0</td>\n",
       "      <td>0</td>\n",
       "      <td>0</td>\n",
       "      <td>52</td>\n",
       "    </tr>\n",
       "    <tr>\n",
       "      <th>7430</th>\n",
       "      <td>43</td>\n",
       "      <td>2</td>\n",
       "      <td>36</td>\n",
       "      <td>0</td>\n",
       "      <td>0</td>\n",
       "      <td>1</td>\n",
       "      <td>0</td>\n",
       "      <td>0</td>\n",
       "      <td>24</td>\n",
       "    </tr>\n",
       "    <tr>\n",
       "      <th>3571</th>\n",
       "      <td>40</td>\n",
       "      <td>2</td>\n",
       "      <td>276</td>\n",
       "      <td>0</td>\n",
       "      <td>0</td>\n",
       "      <td>1</td>\n",
       "      <td>0</td>\n",
       "      <td>0</td>\n",
       "      <td>23</td>\n",
       "    </tr>\n",
       "    <tr>\n",
       "      <th>4505</th>\n",
       "      <td>44</td>\n",
       "      <td>1</td>\n",
       "      <td>0</td>\n",
       "      <td>1</td>\n",
       "      <td>0</td>\n",
       "      <td>0</td>\n",
       "      <td>0</td>\n",
       "      <td>0</td>\n",
       "      <td>95</td>\n",
       "    </tr>\n",
       "    <tr>\n",
       "      <th>15388</th>\n",
       "      <td>43</td>\n",
       "      <td>21</td>\n",
       "      <td>364</td>\n",
       "      <td>1</td>\n",
       "      <td>0</td>\n",
       "      <td>0</td>\n",
       "      <td>0</td>\n",
       "      <td>0</td>\n",
       "      <td>28</td>\n",
       "    </tr>\n",
       "  </tbody>\n",
       "</table>\n",
       "</div>"
      ],
      "text/plain": [
       "       latitude  minimum_nights  availability_365  room_type_Entire_home  \\\n",
       "119          44               2               320                      1   \n",
       "7430         43               2                36                      0   \n",
       "3571         40               2               276                      0   \n",
       "4505         44               1                 0                      1   \n",
       "15388        43              21               364                      1   \n",
       "\n",
       "       room_type_Hotel_room  room_type_Private_room  room_type_Shared_room  \\\n",
       "119                       0                       0                      0   \n",
       "7430                      0                       1                      0   \n",
       "3571                      0                       1                      0   \n",
       "4505                      0                       0                      0   \n",
       "15388                     0                       0                      0   \n",
       "\n",
       "       room_type_nan  price  \n",
       "119                0     52  \n",
       "7430               0     24  \n",
       "3571               0     23  \n",
       "4505               0     95  \n",
       "15388              0     28  "
      ]
     },
     "execution_count": 31,
     "metadata": {},
     "output_type": "execute_result"
    }
   ],
   "source": [
    "df_X_where.head()"
   ]
  },
  {
   "cell_type": "code",
   "execution_count": 32,
   "metadata": {},
   "outputs": [
    {
     "data": {
      "text/plain": [
       "54.139040574115405"
      ]
     },
     "execution_count": 32,
     "metadata": {},
     "output_type": "execute_result"
    }
   ],
   "source": [
    "df_X_where[df_X_where['room_type_Entire_home']==1]['price'].std()"
   ]
  },
  {
   "cell_type": "code",
   "execution_count": 33,
   "metadata": {},
   "outputs": [
    {
     "data": {
      "text/plain": [
       "nan"
      ]
     },
     "execution_count": 33,
     "metadata": {},
     "output_type": "execute_result"
    }
   ],
   "source": [
    "df_X_where[df_X_where['room_type_Hotel_room']==1]['price'].std()"
   ]
  },
  {
   "cell_type": "code",
   "execution_count": 34,
   "metadata": {},
   "outputs": [
    {
     "data": {
      "text/plain": [
       "30.231309678773144"
      ]
     },
     "execution_count": 34,
     "metadata": {},
     "output_type": "execute_result"
    }
   ],
   "source": [
    "df_X_where[df_X_where['room_type_Private_room']==1]['price'].std()"
   ]
  },
  {
   "cell_type": "code",
   "execution_count": 35,
   "metadata": {},
   "outputs": [
    {
     "data": {
      "text/plain": [
       "35.0"
      ]
     },
     "execution_count": 35,
     "metadata": {},
     "output_type": "execute_result"
    }
   ],
   "source": [
    "df_X_where[df_X_where['room_type_Shared_room']==1]['price'].std()"
   ]
  },
  {
   "cell_type": "markdown",
   "metadata": {},
   "source": [
    "**Answer 2:-** the expected price for most commonly used in the far south is 61.3 Euro from Entire home and 16.2 Euro from Shared room."
   ]
  },
  {
   "cell_type": "markdown",
   "metadata": {},
   "source": [
    "#### Question 3:- Increasing the number of days available per year causes price increases ?"
   ]
  },
  {
   "cell_type": "code",
   "execution_count": 36,
   "metadata": {},
   "outputs": [
    {
     "data": {
      "image/png": "[encoded data removed]",
      "text/plain": [
       "<matplotlib.figure.Figure at 0x7f42bc471d30>"
      ]
     },
     "metadata": {
      "needs_background": "light"
     },
     "output_type": "display_data"
    }
   ],
   "source": [
    "plt.scatter( df['price'],df['availability_365'])\n",
    "plt.axis([150,400, 0,380]) # set axis \n",
    "plt.title(\"availability_365 and price\")\n",
    "plt.ylabel(\"availability_365\")\n",
    "plt.xlabel(\"price\")\n",
    "plt.show()"
   ]
  },
  {
   "cell_type": "code",
   "execution_count": 37,
   "metadata": {},
   "outputs": [
    {
     "data": {
      "image/png": "[encoded data removed]",
      "text/plain": [
       "<matplotlib.figure.Figure at 0x7f42b7da4da0>"
      ]
     },
     "metadata": {
      "needs_background": "light"
     },
     "output_type": "display_data"
    }
   ],
   "source": [
    "plt.scatter( X_test['price'],X_test['availability_365'])\n",
    "plt.axis([150,400, 0,380]) # set axis \n",
    "plt.title(\"availability_365 and price\")\n",
    "plt.ylabel(\"availability_365\")\n",
    "plt.xlabel(\"price\")\n",
    "plt.show()"
   ]
  },
  {
   "cell_type": "markdown",
   "metadata": {},
   "source": [
    "**Answer 3:-** Yes, Increasing the number of days available per year causes price increases ."
   ]
  },
  {
   "cell_type": "markdown",
   "metadata": {},
   "source": [
    "#### Question 4:- when minimum nights is small then the price increases?"
   ]
  },
  {
   "cell_type": "code",
   "execution_count": 38,
   "metadata": {},
   "outputs": [
    {
     "data": {
      "image/png": "[encoded data removed]",
      "text/plain": [
       "<matplotlib.figure.Figure at 0x7f42b7d94c50>"
      ]
     },
     "metadata": {
      "needs_background": "light"
     },
     "output_type": "display_data"
    }
   ],
   "source": [
    "plt.scatter( df['price'],df['minimum_nights'])\n",
    "\n",
    "plt.title(\"minimum nights and price\")\n",
    "plt.ylabel(\"minimum nights\")\n",
    "plt.xlabel(\"price\")\n",
    "plt.show()"
   ]
  },
  {
   "cell_type": "markdown",
   "metadata": {},
   "source": [
    "**Answer 4:-**  No, when the minimum nights is small, the price move to decreases."
   ]
  },
  {
   "cell_type": "markdown",
   "metadata": {},
   "source": [
    "### Summary"
   ]
  },
  {
   "cell_type": "markdown",
   "metadata": {},
   "source": [
    "-When we go north, the lower price and Hotel Count.\n",
    "\n",
    "-The expected price for most commonly used in the far south is 61.3 Euro from Entire home and 16.2 Euro from Shared room.\n",
    "\n",
    "-Increasing the number of days available per year causes price increases .\n",
    "\n",
    "-Not effect when the minimum nights is small the price not decreases."
   ]
  },
  {
   "cell_type": "code",
   "execution_count": null,
   "metadata": {},
   "outputs": [],
   "source": []
  }
 ],
 "metadata": {
  "kernelspec": {
   "display_name": "Python 3",
   "language": "python",
   "name": "python3"
  },
  "language_info": {
   "codemirror_mode": {
    "name": "ipython",
    "version": 3
   },
   "file_extension": ".py",
   "mimetype": "text/x-python",
   "name": "python",
   "nbconvert_exporter": "python",
   "pygments_lexer": "ipython3",
   "version": "3.6.3"
  }
 },
 "nbformat": 4,
 "nbformat_minor": 2
}
